{
 "cells": [
  {
   "cell_type": "code",
   "execution_count": 3,
   "metadata": {},
   "outputs": [],
   "source": [
    "import pandas as pd"
   ]
  },
  {
   "attachments": {
    "image.png": {
     "image/png": "[encoded data removed]"
    }
   },
   "cell_type": "markdown",
   "metadata": {},
   "source": [
    "What is a **window function** exactly? It is a function that performs calculations across a set of table rows. The rows are somehow related to the current row.\n",
    "For example, with window functions you can compute sum of values in the current row, one before and one after, as in the picture:\n",
    "\n",
    "\n",
    "\n",
    "![image.png](attachment:image.png)\n",
    "\n",
    "\n",
    "\n",
    "\n",
    "We call it window functions precisely because the set of rows is called a **window** or a **window frame**. Take a look at the syntax:\n",
    "\n",
    "\n",
    "\n",
    "`OVER (...)`\n",
    "\n",
    "\n",
    "\n",
    "can be an **aggregate function** that you already know (`COUNT()`, `SUM()`, `AVG()` etc.), or another function, such as a **ranking** or an **analytical function** that you'll get to know in this course.\n",
    "\n",
    "\n",
    "The window frame is defined in the `OVER(...)` clause. \n",
    "\n",
    "\n",
    "# OVER() \n",
    "Let's focus on `OVER (...)`, which defines the window. The most basic example is `OVER()` and means that the window consists of all rows in the query. Take a look:\n",
    "\n",
    "> `SELECT\n",
    "  first_name,\n",
    "  last_name,\n",
    "  salary,  \n",
    "  AVG(salary) OVER()\n",
    "FROM employee;`\n",
    "\n",
    "That's not a very complicated query, but take a look at the last column:\n",
    "\n",
    "`AVG(salary) OVER()`\n",
    "\n",
    "`AVG(salary)` means we're looking for the **average salary**. Where exactly? EVERYWHERE we can, because `OVER()` means **'for all rows in the query result'**. In others words, we're looking for the average salary in the entire company.\n",
    "\n",
    "Note that we did **NOT** group rows. `OVER()` makes it possible to show the details of single rows and the result of an aggregating function together. That wouldn't be so easy with `GROUP BY` — we would have to write a subquery, which is more complicated and less effective. `OVER()` makes our work simple and efficient at the same time.\n",
    "\n",
    "### Exercise\n",
    "For each employee, find their **first name**, **last name**, **salary** and the **sum of all salaries** in the company.\n",
    "\n",
    "Note that the last column is an aggregated column, even though you're not using a `GROUP BY.`\n",
    "> `SELECT\n",
    "  first_name,\n",
    "  last_name,\n",
    "  salary,  \n",
    "  SUM(salary) OVER()\n",
    "FROM employee;`\n",
    "\n",
    "Query Results: (first 5 rows)\n",
    "\n"
   ]
  },
  {
   "cell_type": "code",
   "execution_count": 2,
   "metadata": {},
   "outputs": [
    {
     "data": {
      "text/html": [
       "<div>\n",
       "<style scoped>\n",
       "    .dataframe tbody tr th:only-of-type {\n",
       "        vertical-align: middle;\n",
       "    }\n",
       "\n",
       "    .dataframe tbody tr th {\n",
       "        vertical-align: top;\n",
       "    }\n",
       "\n",
       "    .dataframe thead th {\n",
       "        text-align: right;\n",
       "    }\n",
       "</style>\n",
       "<table border=\"1\" class=\"dataframe\">\n",
       "  <thead>\n",
       "    <tr style=\"text-align: right;\">\n",
       "      <th></th>\n",
       "      <th>first_name</th>\n",
       "      <th>last_name</th>\n",
       "      <th>salary</th>\n",
       "      <th>sum</th>\n",
       "    </tr>\n",
       "  </thead>\n",
       "  <tbody>\n",
       "    <tr>\n",
       "      <th>0</th>\n",
       "      <td>Diane</td>\n",
       "      <td>Turner</td>\n",
       "      <td>5330</td>\n",
       "      <td>94219</td>\n",
       "    </tr>\n",
       "    <tr>\n",
       "      <th>1</th>\n",
       "      <td>Clarence</td>\n",
       "      <td>Robinson</td>\n",
       "      <td>3617</td>\n",
       "      <td>94219</td>\n",
       "    </tr>\n",
       "    <tr>\n",
       "      <th>2</th>\n",
       "      <td>Eugene</td>\n",
       "      <td>Phillips</td>\n",
       "      <td>4877</td>\n",
       "      <td>94219</td>\n",
       "    </tr>\n",
       "    <tr>\n",
       "      <th>3</th>\n",
       "      <td>Philip</td>\n",
       "      <td>Mitchell</td>\n",
       "      <td>5259</td>\n",
       "      <td>94219</td>\n",
       "    </tr>\n",
       "  </tbody>\n",
       "</table>\n",
       "</div>"
      ],
      "text/plain": [
       "  first_name last_name  salary    sum\n",
       "0      Diane    Turner    5330  94219\n",
       "1   Clarence  Robinson    3617  94219\n",
       "2     Eugene  Phillips    4877  94219\n",
       "3     Philip  Mitchell    5259  94219"
      ]
     },
     "execution_count": 2,
     "metadata": {},
     "output_type": "execute_result"
    }
   ],
   "source": [
    "pd.read_clipboard()"
   ]
  },
  {
   "cell_type": "markdown",
   "metadata": {},
   "source": [
    "### Exercise\n",
    "For each **item** in the `purchase` table, select its  **name** (column `item`), `price` and the **average price** of all items \n",
    "\n",
    "> `SELECT\n",
    "  item,\n",
    "  price,  \n",
    "  AVG(price) OVER()\n",
    "FROM purchase;`\n",
    "\n",
    "Query Results: (first 5 rows)"
   ]
  },
  {
   "cell_type": "code",
   "execution_count": 5,
   "metadata": {},
   "outputs": [
    {
     "data": {
      "text/html": [
       "<div>\n",
       "<style scoped>\n",
       "    .dataframe tbody tr th:only-of-type {\n",
       "        vertical-align: middle;\n",
       "    }\n",
       "\n",
       "    .dataframe tbody tr th {\n",
       "        vertical-align: top;\n",
       "    }\n",
       "\n",
       "    .dataframe thead th {\n",
       "        text-align: right;\n",
       "    }\n",
       "</style>\n",
       "<table border=\"1\" class=\"dataframe\">\n",
       "  <thead>\n",
       "    <tr style=\"text-align: right;\">\n",
       "      <th></th>\n",
       "      <th>item</th>\n",
       "      <th>price</th>\n",
       "      <th>avg</th>\n",
       "    </tr>\n",
       "  </thead>\n",
       "  <tbody>\n",
       "    <tr>\n",
       "      <th>0</th>\n",
       "      <td>monitor</td>\n",
       "      <td>531</td>\n",
       "      <td>479.95</td>\n",
       "    </tr>\n",
       "    <tr>\n",
       "      <th>1</th>\n",
       "      <td>printer</td>\n",
       "      <td>315</td>\n",
       "      <td>479.95</td>\n",
       "    </tr>\n",
       "    <tr>\n",
       "      <th>2</th>\n",
       "      <td>whiteboard</td>\n",
       "      <td>170</td>\n",
       "      <td>479.95</td>\n",
       "    </tr>\n",
       "    <tr>\n",
       "      <th>3</th>\n",
       "      <td>training</td>\n",
       "      <td>117</td>\n",
       "      <td>479.95</td>\n",
       "    </tr>\n",
       "    <tr>\n",
       "      <th>4</th>\n",
       "      <td>computer</td>\n",
       "      <td>2190</td>\n",
       "      <td>479.95</td>\n",
       "    </tr>\n",
       "  </tbody>\n",
       "</table>\n",
       "</div>"
      ],
      "text/plain": [
       "         item  price     avg\n",
       "0     monitor    531  479.95\n",
       "1     printer    315  479.95\n",
       "2  whiteboard    170  479.95\n",
       "3    training    117  479.95\n",
       "4    computer   2190  479.95"
      ]
     },
     "execution_count": 5,
     "metadata": {},
     "output_type": "execute_result"
    }
   ],
   "source": [
    "pd.read_clipboard()"
   ]
  },
  {
   "cell_type": "code",
   "execution_count": null,
   "metadata": {},
   "outputs": [],
   "source": []
  }
 ],
 "metadata": {
  "kernelspec": {
   "display_name": "Python 3",
   "language": "python",
   "name": "python3"
  },
  "language_info": {
   "codemirror_mode": {
    "name": "ipython",
    "version": 3
   },
   "file_extension": ".py",
   "mimetype": "text/x-python",
   "name": "python",
   "nbconvert_exporter": "python",
   "pygments_lexer": "ipython3",
   "version": "3.8.5"
  }
 },
 "nbformat": 4,
 "nbformat_minor": 4
}
